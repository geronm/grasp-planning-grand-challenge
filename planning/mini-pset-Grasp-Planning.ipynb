{
 "cells": [
  {
   "cell_type": "code",
   "execution_count": 25,
   "metadata": {
    "collapsed": false
   },
   "outputs": [
    {
     "name": "stdout",
     "output_type": "stream",
     "text": [
      "The autoreload extension is already loaded. To reload it, use:\n",
      "  %reload_ext autoreload\n"
     ]
    }
   ],
   "source": [
    "%load_ext autoreload\n",
    "%autoreload 2\n",
    "\n",
    "import numpy as np\n",
    "import matplotlib.pyplot as plt\n",
    "from matplotlib import animation, rc, rcParams\n",
    "import matplotlib.ticker as ticker\n",
    "from IPython.display import HTML"
   ]
  },
  {
   "cell_type": "code",
   "execution_count": 26,
   "metadata": {
    "collapsed": false
   },
   "outputs": [],
   "source": [
    "from graphics import Grid\n",
    "from simulator import sim_object, simulator\n",
    "rc('animation', html='html5')\n",
    "# rcParams['animation.writer'] = 'avconv'"
   ]
  },
  {
   "cell_type": "code",
   "execution_count": 27,
   "metadata": {
    "collapsed": false
   },
   "outputs": [],
   "source": [
    "#Initialize Simulator\n",
    "objarr =[[0,1,0,1,0],\n",
    "         [1,1,1,1,1],\n",
    "         [0,0,0,1,0],\n",
    "         [0,0,0,1,0]]\n",
    "obj = sim_object(3,4,occ_arr=objarr)\n",
    "\n",
    "sim = simulator(10,10,[obj])"
   ]
  },
  {
   "cell_type": "code",
   "execution_count": 28,
   "metadata": {
    "collapsed": false
   },
   "outputs": [],
   "source": [
    "#Initialize visualization\n",
    "grid = Grid([], sim.width, sim.height)\n",
    "sim.obj.draw(grid)"
   ]
  },
  {
   "cell_type": "code",
   "execution_count": 29,
   "metadata": {
    "collapsed": false
   },
   "outputs": [
    {
     "data": {
      "text/html": [
       "<video width=\"432\" height=\"288\" controls autoplay loop>\n",
       "  <source type=\"video/mp4\" src=\"data:video/mp4;base64,AAAAHGZ0eXBNNFYgAAACAGlzb21pc28yYXZjMQAAAAhmcmVlAAAZ5G1kYXQAAAKuBgX//6rcRem9\n",
       "5tlIt5Ys2CDZI+7veDI2NCAtIGNvcmUgMTQ4IHIyNzA4IDg2YjcxOTggLSBILjI2NC9NUEVHLTQg\n",
       "QVZDIGNvZGVjIC0gQ29weWxlZnQgMjAwMy0yMDE2IC0gaHR0cDovL3d3dy52aWRlb2xhbi5vcmcv\n",
       "eDI2NC5odG1sIC0gb3B0aW9uczogY2FiYWM9MSByZWY9MyBkZWJsb2NrPTE6MDowIGFuYWx5c2U9\n",
       "MHgzOjB4MTEzIG1lPWhleCBzdWJtZT03IHBzeT0xIHBzeV9yZD0xLjAwOjAuMDAgbWl4ZWRfcmVm\n",
       "PTEgbWVfcmFuZ2U9MTYgY2hyb21hX21lPTEgdHJlbGxpcz0xIDh4OGRjdD0xIGNxbT0wIGRlYWR6\n",
       "b25lPTIxLDExIGZhc3RfcHNraXA9MSBjaHJvbWFfcXBfb2Zmc2V0PS0yIHRocmVhZHM9NiBsb29r\n",
       "YWhlYWRfdGhyZWFkcz0xIHNsaWNlZF90aHJlYWRzPTAgbnI9MCBkZWNpbWF0ZT0xIGludGVybGFj\n",
       "ZWQ9MCBibHVyYXlfY29tcGF0PTAgY29uc3RyYWluZWRfaW50cmE9MCBiZnJhbWVzPTMgYl9weXJh\n",
       "bWlkPTIgYl9hZGFwdD0xIGJfYmlhcz0wIGRpcmVjdD0xIHdlaWdodGI9MSBvcGVuX2dvcD0wIHdl\n",
       "aWdodHA9MiBrZXlpbnQ9MjUwIGtleWludF9taW49MjUgc2NlbmVjdXQ9NDAgaW50cmFfcmVmcmVz\n",
       "aD0wIHJjX2xvb2thaGVhZD00MCByYz1jcmYgbWJ0cmVlPTEgY3JmPTIzLjAgcWNvbXA9MC42MCBx\n",
       "cG1pbj0wIHFwbWF4PTY5IHFwc3RlcD00IGlwX3JhdGlvPTEuNDAgYXE9MToxLjAwAIAAAA3IZYiE\n",
       "ACf//vWxfApqyfOKDOgyLuGXJMmutiLibQDAAAADAAVQU9eBiH/MB5gekTdGa+aieUtjBVNspTPx\n",
       "kjfMBWT9dy4AAJkDCDdeYW77CfZfvTbtJZJhYPqCAWCP0UdRB11m/ABZxeFBKCiMPr4/NmE/DBI0\n",
       "BB8tVW+ZcgkCpbLdQX2YCr2PPV91Jl2k3hIHaEZwUls706wer+N3MKoJlT858FRxbJ6bhow5ZJqJ\n",
       "zCi3G70wSOZQehfQVgL7NhChozjECgRh5SPUeg4pn5a0lhLIMPQQvOMA6yHWqHToq6mKoSu7VuC7\n",
       "GRXVpCx/AnvWq9RVP2N4GnfsAoYwqCLRWKqrJqd6O+KKNO2JifRvCYwRk016OStfZRnKrBSNAmEH\n",
       "pIriDpfi8h8odPAf93D9q/ZjIi5Y2FPsV+vYFy2/qKMU1JwovySgJKnlYTGiekBCb99+U67TYGPA\n",
       "5i2HgVwaxkt+GgTMD2PwFvv6urh+NDiDJimNbarHymNEU21bizXUP010NzA3Uf9fynrlXBNcGSx3\n",
       "IzQ9XCQ8NvJU/I0cP/w/jSubDoKtiS/xaOzIYtzYGN8/8xbZJ+AXuPcK64zp5Qz/LwlepHFFJWFm\n",
       "SYxHXKMWEwGtebV6JrcWJ9L6//geega3LNiAzkyV3tWT2Z9hiEuJ7Xe4afkjSzGg3fFe1/E5qZt7\n",
       "LTcUM0e00KyDaLmiDArkFBMIZu1HrMvOoUZLCX2/6fJKMp81hTLQadOZkYtQkGXlmUbsbKKWiCwI\n",
       "N+BxrcbIq3vf2xsfvQeV/6KArF9qMf/tsG6hzOQkOJIjUbIiyPB96mNVcDSR265LrrrUhrzzDcI4\n",
       "wV307nboXjGndiEW/t69GnblIbVQus+7kWJeFygcaFR7Jr2vxTpS739H3M+OqQjGCmqhLYWAh5k/\n",
       "ysLFEf4+o0xLaROkzse7Uc0BTlVtiTKJFJllJ3wT4XwZBFBhxEMUpurZGtBXO1eBXjvaFhLKQIU0\n",
       "L4pepoJu/y10vT8Qh4onCRoehNLzSSQm6pg6Du8cG2cn7g/LvGMIs4bOk4svAtbJoAaY5d/ejqgC\n",
       "Csic+jPRizsBvWlfQkZvEfW4PULVUOkr/Lf2Smf9sVzO641kTDFw3mNp29RiNhEfxN+v+w9DhTUf\n",
       "Pl12n3FaxzYVauiISep3gPKt2HT69vvsJiLLQJ+FyiIBogR0z88gOuTuwOCKi3CTNKuR9jvm/BeJ\n",
       "bhvoCtf8KjO2jx4KATB1odAUQbK3nJuJUDbbJpjrXs8vObgQTG9/rPzcqHShoHXIfpeTvMGUASm3\n",
       "f1eddPVxgwZmxfvl3BHicdw3vuDn7uIGTqXsXtPZS1P750AaJc5Wkn8mmsz/D9XT9fYup8180ewp\n",
       "XjJWi0qahMVR/QsailUWgNTpimWwzObmeR/B9C0orj4R+ZDOMTYoBgGa1JbQDzG+RZbvV4pYkCvl\n",
       "anA2wrjrkvp+R/4UsRG16kqAXQ16HV40vlIInHB0WwTEgr9Dry1Zkv0JJZzqBx0upO4pkwUlNmJh\n",
       "YXc2X40TM6E6Hd0flDlpEOMYGBMOiQtQnqAVjRo6VXpOjPaNFu1Jr/aqN1elL4UZOc2UlRl1Vev3\n",
       "iWRObVIJei7PkFF1WpGG0DAMuHSnd1y/xW2q4flaN84bD06p7ggzI/7jbXD4R4izQ968Grlrwx3N\n",
       "xMsEX00gStzBbjNAuPtdvgQe/tbnXj49PJhQdK9rHgfFZeasXeocLrtU+/5LZdMz6VCO8AYUdPzx\n",
       "S6Dcv5H/JQj/BxPgj7loVs6ncRCVnmssUU2y+xrfHW3W+cdK9I73y7vGfzKLJWRxTdFtUOVWfgdP\n",
       "CEGHj/G8tL8Ix1+wQO/+MHJ9TAlBP8pjp5Ly7YJX49CHqZfn4cwbjqmje7VdFAYCWDG4EdjaIeCp\n",
       "cxngja2Zwuc7qI/rlSVqE6ax9Zg1t4d5eQkTJrIm0FgW0dh5IX7wux+kk6WxpvZ2z1g/YmxuEMsE\n",
       "oUxDWsIWbLQttXjGFLuE13MnjOVbnEepa1qlHWOfv7smya109WSjT5ER3gKYmPJyqKqU69K3X2U1\n",
       "eCNb5pxCvxaDmgN8Wuap+B68g9ZyX4LMfqkIk6ngdKvPDotEp97pFblwiciQGTKtO+r9pi10b81j\n",
       "eL/gUnInVwdAtz+/Xl+InnnAV6c9229RFSRGT/8R4ECTnkd5QtPxVmwxMhsnF0479fFDJqwYgYWO\n",
       "bNw8IkDUO6+7prioV1tKgllHqzv6yQT18Q5xtWW7cCPy5S8mbwQMXRKOj3+4pvljhp39uOjHZBXB\n",
       "5ZJ3wmP7YCvvB+kOiJ24gHBTU+vesWKrLxwQN/eNFqdcW59DFAPOVf2vccF7rplSPJIMCDSLDQDl\n",
       "+GHw7yAzE4vT0cXEMY1vbQeKabmbv46Sn9v7WeM8iGKNSQUAF5KP13lZSZSQUxe5NJxeQHSDf6VT\n",
       "+ueJP80aeJHVVfdQwjhr0xQesHfdHq2ZRVK71JJ//qSJD5kFXg0WdEr/yDeaP85Z5fLXWCsYsQRp\n",
       "lv2bcoJRAgbOrvJHidA1tF4CHPR9xQMiyZbZEEKdP4VSMsE8nAxo/0QNO7E68w8AJrvG8b02Ys+n\n",
       "nE1ErmlAGdMK3sGFV/GSdiuAxjN6zhdBzShSIjfRc5IwMvnFL9pwQE/S/EffFOhbzmqNlroG/b0P\n",
       "bIeZbsGNL9U5fbWGO0ezj9SQ75IdyurfBmqXs77A1a4hD6WMXyQjDqXfHr3E5Q6lnGSjbsGe1N0W\n",
       "Tm0BduyOmLrxE3AZ70/0f2oejrHMf4j51UQ2PoeY9WVwFRkh/sPLVcP2DHx1OUBSR1ycjksw0Z/+\n",
       "jlJEV+Y7LTWDNnbwp3YA5kfY1k2o1Yae4jfJ/FT91O64daDLQ72hyocldsn7H9u6urEN132H+qWb\n",
       "nRbAtUjPwVcUPCwN0da8ZKk4CMWm2rPf1sM3QddzUr79y3dhFxqJ1y0d2S6c9nwoHdfTw9teArRW\n",
       "3ms1AynQxb6AjF5fZ6A6kBPwmRq7yRvu665MiaZ4+/uCltEGkzE9qAp2ugVmCMz43jWmemxDZEV7\n",
       "KB5NeJ/dRYcw+Svq/iuMD5oLvIUfNlijzXQ/39/0762GPknqRAoXNNm1Zi6mFq+p4i75dwoCBoLQ\n",
       "gIAPsvx7fXoNIzETPWwSCsbBNeGQWLdYFtg6izCJwvaGoKQVaZT3/AcRsW/jvc1HpnqCnOsLw6QN\n",
       "j41e8MjNW3CxC+IjrEfuHJ0QAEpc5qcn+gCLI6W2OgyHOh69WLtaCPrHJ6oFJqxKkJJT8XZCXTIl\n",
       "TUD0nN5ylkWVqmLo4GZqaS6bZ6iJz8ZQNZ8HgRN2iDeSM8wXinAjZMMgwPrBGPbt4FOpiTYVxCU9\n",
       "L+KEP+D+cz+GVBbQXoGsGff3s14AN/uNJizcBAj7KuWDS9uY2w0QkVdd2iYK6NWIMXqu0h5n7iX1\n",
       "YoKwevG5l9GAh2ZvomMpacXOC8AzMzjNXM6zQ6aeB7zQkv2S2/Cn0YJsBwUpEtjaDSartaKKML/3\n",
       "tfFwA6RaxAaF8u72IH6V0HzciwYLpiseoNHsNzllCq7dDfYu+vHAA9OCf6R8yJvHAaBzQPxCrDaD\n",
       "IYjdmer+RXLyD4xd5Y6slE4kppVHpedxGJuT/HzPdoa23tk5LncFHUIWFihf01hmLo4vCkya6r1E\n",
       "wCkw7YM3daGXm/M6shZgAEuFtH7StACcJDfoZhggd+5wIjJI6JdPC3IYzf96ak0xhmDPwihbXz23\n",
       "iL0QtAxh3RUC1Xm0gjloKzIQk02hBi07LHYwYeXf7+fA74QA4XucZLWFFWv85oOqXFUBZ/Qh/0Fb\n",
       "gxYe56aEzspkjtf9ENMBGgOywRO6rXFS9plLBYTBktP/2Zib7qXjnsQ0Ake+uX0sHT6mhPIrRrl9\n",
       "ot9aShCu5TzyA6dmiUHbqfepDy4ePBOZrBHQ86XDGcTU6KOVYGTAKHTYySkGAG5qUBOyWyVGLENV\n",
       "vgOSf98wf75MBUZPyVuGVBrEGXYSpjnBusvZE8C/iWNr4zAZR3kHgeBPPiN4WChzdSAntjlufFDu\n",
       "rC5m3LBq+AMk5lx3hbqziPFVLi+pDjWy+78oFFbuxBlSYUCoA3lNSNdawOlqMNnTkRG/sq9LBGyU\n",
       "XJstzMtSRsIG8zDhSLCSWiTq7JJE5lDf2WGuvH7/W6/DLelrTQwOQJwt3W7w8OCyNOaPQ0gg61YL\n",
       "toqEOkE52+1tc5VqwEjrVeRs1q4gg3PTSeZVZC7b1Ubs+XyFnciJGJ7hAbHLK/bsqHVki8oBVtCt\n",
       "dBm+VB37Qfbh+jqmd0ixbR88q60KnceZCkuvy+fANuDng5ysZ4XHQheG53SsvLVXVFk9UlLA6Q+i\n",
       "Zj606wdK2jeA1gwarGuoegNqrRmkZtnTFPbBR3S7+MF8ztHmGhdtmJsXpMeYhIucLstt16qp8cAt\n",
       "QPmPjaVeRdDTjV0gfsoLDM+oSNIqzSzR+DJUOUMgyfEo/QleUxk4siENCA6ybShlyslXaLx9gnQ4\n",
       "nQV5+sPcX1pZv1JpTmO3wod8Wt/1HS6eAMOupC6PSrfBendGGSyl/725pNMycWAX/YRJ9wMHA4UU\n",
       "igBBfM6k+wJbPesYkpKgO7yqOE0cZvvlu5HIpZnNZMI+VvLPxbNLNW9k4axi9ra2Y4fILKonO1J1\n",
       "dql+UhVX2lMln0sL9q2vB46IirWzUi/gWXTnTYCzo3ODAADu7wWMAMkvxhBBBOqBAAABdEGaJGxC\n",
       "f/3xADWCaSAS3YB9jGYCTbLzFlBV7U3hkZdz7o/nQMf+xnN30amYnt160QMV9x9yHnbMv4mnTMK6\n",
       "Op9NG5qGjfkHzXf3yJaOtlvOYhQ3DwDt0QyfwaNEG+9RVv+PoLBOLn+fyIaTW/t4BRR+7nW/hhhl\n",
       "v6yIBs6hpmJGOrYN/DvH37YyEkh+SEiJDqCilpjG9a2lamMCitIo1TpLAtDc24rPoUyuDRleTqqG\n",
       "m625GIcVNyHEaju7KfQvDnWEdfqDnTG3YJN88naD3dmwXUVkPAGOL/pepC5RwqlAXB5joyqsk+DQ\n",
       "N38FuoPGLuuvXcr8g6f+AgY6mYbrIGsv2TYHsowi0P+W4ZI0Ep86jjaOVDVCLZ7sESSzTFTts2Li\n",
       "J2WTPVlblyjoELNpEFfC0UiaQL+1njr5YidWPBL1Ah+EDgGpbG8XOKiDUETOwan2saQB7Z+fFy70\n",
       "r19l7FZxdCbHmlfxfqayLCseayZGAVABlQAAAEJBnkJ4jf8CNuiRgB9pxqSZkBq4cETQ3SrYrbtc\n",
       "Nos6+VtMcZd2aLtmREiTWH47TJCyvxtePOwGRAqNoZjQIoDNRTcAAAAsAZ5hdEX/AtXAxoFTYSAu\n",
       "DjIStywmDB6R2NtQqwqAfOcrQwKyYmaXcJ/MgjoAAAAfAZ5jakX/AIKXbd46n4M/yeKftLmzlpmC\n",
       "/jmNPtECawAAAEhBmmhJqEFomUwIT//98QAGHMWLArebb7fpuHivifAE4HsCL96m8sOSObqu5pyI\n",
       "9YvJslPNeg97/jiGSx2/uaeSYsagYAfCjukAAAAjQZ6GRREsbwBpeHkfCB9/FeLxv0+93U/OFIUj\n",
       "5F0f5dBZInkAAAAZAZ6ldEX/AIKSVan4Z89HwBWGMAOnYeBUQQAAABEBnqdqRf8AABWdFRm9+ULJ\n",
       "2AAAAB1BmqxJqEFsmUwIT//98QAAAwFa+CNA91CNWx986AAAABVBnspFFSxvAAAXQycWOkHt0tOQ\n",
       "xdEAAAARAZ7pdEX/AAAc8urulsOAL94AAAAMAZ7rakX/AAAVkf2IAAAAFEGa8EmoQWyZTAhP//3x\n",
       "AAADAEXBAAAAEkGfDkUVLG8AAA+P3TY6CVRegQAAAAoBny10Rf8AAAYFAAAACgGfL2pF/wAABgQA\n",
       "AAAUQZs0SahBbJlMCE///fEAAAMARcAAAAASQZ9SRRUsbwAAD4/dNjoJVF6BAAAACgGfcXRF/wAA\n",
       "BgQAAAAKAZ9zakX/AAAGBAAAABRBm3hJqEFsmUwIT//98QAAAwBFwQAAABJBn5ZFFSxvAAAPj902\n",
       "OglUXoAAAAAKAZ+1dEX/AAAGBQAAAAoBn7dqRf8AAAYFAAAAFEGbvEmoQWyZTAhP//3xAAADAEXA\n",
       "AAAAEkGf2kUVLG8AAA+P3TY6CVRegQAAAAoBn/l0Rf8AAAYEAAAACgGf+2pF/wAABgUAAAAUQZvg\n",
       "SahBbJlMCE///fEAAAMARcEAAAASQZ4eRRUsbwAAD4/dNjoJVF6AAAAACgGePXRF/wAABgQAAAAK\n",
       "AZ4/akX/AAAGBQAAABRBmiRJqEFsmUwIT//98QAAAwBFwAAAABJBnkJFFSxvAAAPj902OglUXoEA\n",
       "AAAKAZ5hdEX/AAAGBAAAAAoBnmNqRf8AAAYFAAAAFEGaaEmoQWyZTAhP//3xAAADAEXBAAAAEkGe\n",
       "hkUVLG8AAA+P3TY6CVRegQAAAAoBnqV0Rf8AAAYFAAAACgGep2pF/wAABgQAAAAUQZqsSahBbJlM\n",
       "CE///fEAAAMARcAAAAASQZ7KRRUsbwAAD4/dNjoJVF6BAAAACgGe6XRF/wAABgQAAAAKAZ7rakX/\n",
       "AAAGBAAAABRBmvBJqEFsmUwIT//98QAAAwBFwQAAABJBnw5FFSxvAAAPj902OglUXoEAAAAKAZ8t\n",
       "dEX/AAAGBQAAAAoBny9qRf8AAAYEAAAAFEGbNEmoQWyZTAhP//3xAAADAEXAAAAAEkGfUkUVLG8A\n",
       "AA+P3TY6CVRegQAAAAoBn3F0Rf8AAAYEAAAACgGfc2pF/wAABgQAAAAUQZt4SahBbJlMCE///fEA\n",
       "AAMARcEAAAASQZ+WRRUsbwAAD4/dNjoJVF6AAAAACgGftXRF/wAABgUAAAAKAZ+3akX/AAAGBQAA\n",
       "ABRBm7xJqEFsmUwIT//98QAAAwBFwAAAABJBn9pFFSxvAAAPj902OglUXoEAAAAKAZ/5dEX/AAAG\n",
       "BAAAAAoBn/tqRf8AAAYFAAAAFEGb4EmoQWyZTAhP//3xAAADAEXBAAAAEkGeHkUVLG8AAA+P3TY6\n",
       "CVRegAAAAAoBnj10Rf8AAAYEAAAACgGeP2pF/wAABgUAAAAUQZokSahBbJlMCE///fEAAAMARcAA\n",
       "AAASQZ5CRRUsbwAAD4/dNjoJVF6BAAAACgGeYXRF/wAABgQAAAAKAZ5jakX/AAAGBQAAABRBmmhJ\n",
       "qEFsmUwIT//98QAAAwBFwQAAABJBnoZFFSxvAAAPj902OglUXoEAAAAKAZ6ldEX/AAAGBQAAAAoB\n",
       "nqdqRf8AAAYEAAAAFEGarEmoQWyZTAhP//3xAAADAEXAAAAAEkGeykUVLG8AAA+P3TY6CVRegQAA\n",
       "AAoBnul0Rf8AAAYEAAAACgGe62pF/wAABgQAAAAUQZrwSahBbJlMCE///fEAAAMARcEAAAASQZ8O\n",
       "RRUsbwAAD4/dNjoJVF6BAAAACgGfLXRF/wAABgUAAAAKAZ8vakX/AAAGBAAAABRBmzRJqEFsmUwI\n",
       "T//98QAAAwBFwAAAABJBn1JFFSxvAAAPj902OglUXoEAAAAKAZ9xdEX/AAAGBAAAAAoBn3NqRf8A\n",
       "AAYEAAAAFEGbeEmoQWyZTAhP//3xAAADAEXBAAAAEkGflkUVLG8AAA+P3TY6CVRegAAAAAoBn7V0\n",
       "Rf8AAAYFAAAACgGft2pF/wAABgUAAAAUQZu8SahBbJlMCEf//eEAAAMAb0AAAAASQZ/aRRUsbwAA\n",
       "D4/dNjoJVF6BAAAACgGf+XRF/wAABgQAAAAKAZ/7akX/AAAGBQAAABJBm+BJqEFsmUwI//yEAAAD\n",
       "AbMAAAASQZ4eRRUsbwAAD4/dNjoJVF6AAAAACgGePXRF/wAABgQAAAAKAZ4/akX/AAAGBQAAABJB\n",
       "miNJqEFsmUwIv/pYAAADA1YAAAARQZ5BRRUsXwAAE/OyPXaaepsAAAAKAZ5iakX/AAAGBAAAB9Zt\n",
       "b292AAAAbG12aGQAAAAAAAAAAAAAAAAAAAPoAAAD6AABAAABAAAAAAAAAAAAAAAAAQAAAAAAAAAA\n",
       "AAAAAAAAAAEAAAAAAAAAAAAAAAAAAEAAAAAAAAAAAAAAAAAAAAAAAAAAAAAAAAAAAAAAAAACAAAH\n",
       "AHRyYWsAAABcdGtoZAAAAAMAAAAAAAAAAAAAAAEAAAAAAAAD6AAAAAAAAAAAAAAAAAAAAAAAAQAA\n",
       "AAAAAAAAAAAAAAAAAAEAAAAAAAAAAAAAAAAAAEAAAAABsAAAASAAAAAAACRlZHRzAAAAHGVsc3QA\n",
       "AAAAAAAAAQAAA+gAAAEAAAEAAAAABnhtZGlhAAAAIG1kaGQAAAAAAAAAAAAAAAAAADIAAAAyAFXE\n",
       "AAAAAAAtaGRscgAAAAAAAAAAdmlkZQAAAAAAAAAAAAAAAFZpZGVvSGFuZGxlcgAAAAYjbWluZgAA\n",
       "ABR2bWhkAAAAAQAAAAAAAAAAAAAAJGRpbmYAAAAcZHJlZgAAAAAAAAABAAAADHVybCAAAAABAAAF\n",
       "43N0YmwAAACzc3RzZAAAAAAAAAABAAAAo2F2YzEAAAAAAAAAAQAAAAAAAAAAAAAAAAAAAAABsAEg\n",
       "AEgAAABIAAAAAAAAAAEAAAAAAAAAAAAAAAAAAAAAAAAAAAAAAAAAAAAAAAAAAAAY//8AAAAxYXZj\n",
       "QwFkAB//4QAYZ2QAH6zZQbCWhAAAAwAEAAADAyA8YMZYAQAGaOvjyyLAAAAAHHV1aWRraEDyXyRP\n",
       "xbo5pRvPAyPzAAAAAAAAABhzdHRzAAAAAAAAAAEAAABkAAAAgAAAABRzdHNzAAAAAAAAAAEAAAAB\n",
       "AAADKGN0dHMAAAAAAAAAYwAAAAEAAAEAAAAAAQAAAoAAAAABAAABAAAAAAEAAAAAAAAAAQAAAIAA\n",
       "AAABAAACgAAAAAEAAAEAAAAAAQAAAAAAAAABAAAAgAAAAAEAAAKAAAAAAQAAAQAAAAABAAAAAAAA\n",
       "AAEAAACAAAAAAQAAAoAAAAABAAABAAAAAAEAAAAAAAAAAQAAAIAAAAABAAACgAAAAAEAAAEAAAAA\n",
       "AQAAAAAAAAABAAAAgAAAAAEAAAKAAAAAAQAAAQAAAAABAAAAAAAAAAEAAACAAAAAAQAAAoAAAAAB\n",
       "AAABAAAAAAEAAAAAAAAAAQAAAIAAAAABAAACgAAAAAEAAAEAAAAAAQAAAAAAAAABAAAAgAAAAAEA\n",
       "AAKAAAAAAQAAAQAAAAABAAAAAAAAAAEAAACAAAAAAQAAAoAAAAABAAABAAAAAAEAAAAAAAAAAQAA\n",
       "AIAAAAABAAACgAAAAAEAAAEAAAAAAQAAAAAAAAABAAAAgAAAAAEAAAKAAAAAAQAAAQAAAAABAAAA\n",
       "AAAAAAEAAACAAAAAAQAAAoAAAAABAAABAAAAAAEAAAAAAAAAAQAAAIAAAAABAAACgAAAAAEAAAEA\n",
       "AAAAAQAAAAAAAAABAAAAgAAAAAEAAAKAAAAAAQAAAQAAAAABAAAAAAAAAAEAAACAAAAAAQAAAoAA\n",
       "AAABAAABAAAAAAEAAAAAAAAAAQAAAIAAAAABAAACgAAAAAEAAAEAAAAAAQAAAAAAAAABAAAAgAAA\n",
       "AAEAAAKAAAAAAQAAAQAAAAABAAAAAAAAAAEAAACAAAAAAQAAAoAAAAABAAABAAAAAAEAAAAAAAAA\n",
       "AQAAAIAAAAABAAACgAAAAAEAAAEAAAAAAQAAAAAAAAABAAAAgAAAAAEAAAKAAAAAAQAAAQAAAAAB\n",
       "AAAAAAAAAAEAAACAAAAAAQAAAoAAAAABAAABAAAAAAEAAAAAAAAAAQAAAIAAAAABAAACgAAAAAEA\n",
       "AAEAAAAAAQAAAAAAAAABAAAAgAAAAAEAAAKAAAAAAQAAAQAAAAABAAAAAAAAAAEAAACAAAAAAQAA\n",
       "AgAAAAACAAAAgAAAABxzdHNjAAAAAAAAAAEAAAABAAAAZAAAAAEAAAGkc3RzegAAAAAAAAAAAAAA\n",
       "ZAAAEH4AAAF4AAAARgAAADAAAAAjAAAATAAAACcAAAAdAAAAFQAAACEAAAAZAAAAFQAAABAAAAAY\n",
       "AAAAFgAAAA4AAAAOAAAAGAAAABYAAAAOAAAADgAAABgAAAAWAAAADgAAAA4AAAAYAAAAFgAAAA4A\n",
       "AAAOAAAAGAAAABYAAAAOAAAADgAAABgAAAAWAAAADgAAAA4AAAAYAAAAFgAAAA4AAAAOAAAAGAAA\n",
       "ABYAAAAOAAAADgAAABgAAAAWAAAADgAAAA4AAAAYAAAAFgAAAA4AAAAOAAAAGAAAABYAAAAOAAAA\n",
       "DgAAABgAAAAWAAAADgAAAA4AAAAYAAAAFgAAAA4AAAAOAAAAGAAAABYAAAAOAAAADgAAABgAAAAW\n",
       "AAAADgAAAA4AAAAYAAAAFgAAAA4AAAAOAAAAGAAAABYAAAAOAAAADgAAABgAAAAWAAAADgAAAA4A\n",
       "AAAYAAAAFgAAAA4AAAAOAAAAGAAAABYAAAAOAAAADgAAABYAAAAWAAAADgAAAA4AAAAWAAAAFQAA\n",
       "AA4AAAAUc3RjbwAAAAAAAAABAAAALAAAAGJ1ZHRhAAAAWm1ldGEAAAAAAAAAIWhkbHIAAAAAAAAA\n",
       "AG1kaXJhcHBsAAAAAAAAAAAAAAAALWlsc3QAAAAlqXRvbwAAAB1kYXRhAAAAAQAAAABMYXZmNTcu\n",
       "NTYuMTAw\n",
       "\">\n",
       "  Your browser does not support the video tag.\n",
       "</video>"
      ],
      "text/plain": [
       "<IPython.core.display.HTML object>"
      ]
     },
     "execution_count": 29,
     "metadata": {},
     "output_type": "execute_result"
    }
   ],
   "source": [
    "#Visualize\n",
    "#grid.fill(0, 0, 'black')\n",
    "grid.play()"
   ]
  },
  {
   "cell_type": "code",
   "execution_count": 22,
   "metadata": {
    "collapsed": false
   },
   "outputs": [
    {
     "name": "stdout",
     "output_type": "stream",
     "text": [
      "(3, 0, [False, True, False], 3)\n"
     ]
    },
    {
     "data": {
      "text/html": [
       "<video width=\"432\" height=\"288\" controls autoplay loop>\n",
       "  <source type=\"video/mp4\" src=\"data:video/mp4;base64,AAAAHGZ0eXBNNFYgAAACAGlzb21pc28yYXZjMQAAAAhmcmVlAAAKmW1kYXQAAAKuBgX//6rcRem9\n",
       "5tlIt5Ys2CDZI+7veDI2NCAtIGNvcmUgMTQ4IHIyNzA4IDg2YjcxOTggLSBILjI2NC9NUEVHLTQg\n",
       "QVZDIGNvZGVjIC0gQ29weWxlZnQgMjAwMy0yMDE2IC0gaHR0cDovL3d3dy52aWRlb2xhbi5vcmcv\n",
       "eDI2NC5odG1sIC0gb3B0aW9uczogY2FiYWM9MSByZWY9MyBkZWJsb2NrPTE6MDowIGFuYWx5c2U9\n",
       "MHgzOjB4MTEzIG1lPWhleCBzdWJtZT03IHBzeT0xIHBzeV9yZD0xLjAwOjAuMDAgbWl4ZWRfcmVm\n",
       "PTEgbWVfcmFuZ2U9MTYgY2hyb21hX21lPTEgdHJlbGxpcz0xIDh4OGRjdD0xIGNxbT0wIGRlYWR6\n",
       "b25lPTIxLDExIGZhc3RfcHNraXA9MSBjaHJvbWFfcXBfb2Zmc2V0PS0yIHRocmVhZHM9NiBsb29r\n",
       "YWhlYWRfdGhyZWFkcz0xIHNsaWNlZF90aHJlYWRzPTAgbnI9MCBkZWNpbWF0ZT0xIGludGVybGFj\n",
       "ZWQ9MCBibHVyYXlfY29tcGF0PTAgY29uc3RyYWluZWRfaW50cmE9MCBiZnJhbWVzPTMgYl9weXJh\n",
       "bWlkPTIgYl9hZGFwdD0xIGJfYmlhcz0wIGRpcmVjdD0xIHdlaWdodGI9MSBvcGVuX2dvcD0wIHdl\n",
       "aWdodHA9MiBrZXlpbnQ9MjUwIGtleWludF9taW49MjUgc2NlbmVjdXQ9NDAgaW50cmFfcmVmcmVz\n",
       "aD0wIHJjX2xvb2thaGVhZD00MCByYz1jcmYgbWJ0cmVlPTEgY3JmPTIzLjAgcWNvbXA9MC42MCBx\n",
       "cG1pbj0wIHFwbWF4PTY5IHFwc3RlcD00IGlwX3JhdGlvPTEuNDAgYXE9MToxLjAwAIAAAAfbZYiE\n",
       "AF/+8ivwKZwpVsF3qvdhFliQm2RUee7CgAAAAwAq0zWsZCviAIcdFM5GNWcLIVhmCP3X+IRLJeAA\n",
       "ABCd2FVmhC5fJ1CfM00oISavaE/UJMkM7cyxp1zaHkGgBOlMcOT72/W6rQfAyf1KfYBBpmur9yrt\n",
       "qnI/2q5CbbDigEGw6cI8q1j6Aecop73tL5Q08F9IdN6j84d2xojLK2l/MF8b08JBI4QmDUFaZGeV\n",
       "LZjzXuGPDRm3naUB5n966gcJlCrRulb0tDnBoihxJVo2BbJtQ7ZYhCk5PtbL7VbaZHsu9ZGuV2tc\n",
       "WUED914HsnY5GECnmBFsPi27smbH438sA8iOd50dLZQQKKptJFnV/73FoROdxd2NxBpOT0WxPEJ/\n",
       "o5qrW9w0myV48/sHoqgFO//zUpdws92kb2YfwS7olS881VrYGSyTt1ajyRFtzm43ZgeDon+YUiAJ\n",
       "IBxkCET/zSEoY+pc+pFbCvGPeL9fein+zULGTk2TTGxWh9nL+egqOacGiKCspu/SSiobsiANEsWQ\n",
       "El/d860rv4usZ7doyxN0x7WVZCdID3z/RyImf1LN24aC6MFnK7ewwhGzMAHzVqHTe//P6TLYEsZM\n",
       "1WReZGoQBpTI+2q8It1MnpL+VDiL4ur15HRNtB3qnU2fWMESw4uxZ8PYFtvtFtQQPX2y8GW9NKBQ\n",
       "Jqi40dTQBg0RJq6AFYkvPzufFfQvHOdEK6aj4bvrH2TQtp7K9XaWHCLPX2fAsciSxftXRmOgh3up\n",
       "Kec/es1hVp1RoCycF+K6CdKpvgBnNbES+gRBfVFS7VJwtxPjyCOf0+FGCMkXK9hVGgrYTZvrP1E4\n",
       "sfvbxLSUj2qNyzeurwfeQF2V+jsqCwPFln//jtluxlIQYN0Orm+OvcCJT971vWVVyFV7QPsy6L++\n",
       "ru/yQgNaxHXDiWt3bm0oyW564/qTNfFoLgtizIIjHfUAMwNisuGilafgQNBLwB4m4UMMeUG7GBZV\n",
       "KJ3QY4LPaS608oBRKrFFhQyDfvHrItlleLkFCSgyiD6i7kFM3DdPYAiUKS8LPwgmx0qncMVvh32B\n",
       "AjkqVBnZGOImxo+9+UPI4aSROIhY1jLvMxi/BMtyGrLHr+nM+8Wf5Hms5N+Bn3k3kGL2HvP9BPx2\n",
       "ps8ORN+R9xebUgzKRiMz+kA5VRHwcrRAdX/2/wFvIpqxDn6h7f+8Xn8u5naEwoWQEbHYjJnOAXj7\n",
       "CXfvn6NsujAClXv/XRZCItFyK7WVFSj/F+v6OFnoNdCiQpbd+n9cbGd9U8hb+TOQeoeEd3EwVRvP\n",
       "euon2uFyCWaqcpr3Vx6txkvQyw6PjokK6aB8IPHJZlGKyn4DVgjBYaaS3+f0Ltzf4SE+fYswpk6P\n",
       "gEJ4Ndgc1plbg8UO0inmJkhqnnHBHxS3i7G319Se1VVCbuZgkPzUmhk6Vio0+uqbHlN07YgQpksU\n",
       "yDnqWNzAIrtFXT/X8r1aYGcKctUNej85SBr8dBmB98BU3Bh4kgi0INFpB3nEiADOeGSCSAp5ytfl\n",
       "KcDHvuDcwMqnyMpC6qKnfQAtp5CO+drAH31hI0EMngPda39hk+tueRp6U9vPd+s0A7lUkgETs3nX\n",
       "Y2ar471y6VZ5oSlsUnBTkacs6sKxhB5dSnVqHC1P5EHIhRn5WXBehNISWhvz2ODJ5blXQ99yRVWx\n",
       "cj8N/mHkoNILlMQnhkJ2/4m0Lkuplw86aviLP+fFaOZS14WTDUGH8So35qhd5yA7QfT6IluNIvo9\n",
       "ThDERnxBiLtte7KTYMu8jrSZxV1CL+yiXkUY/TXCEJfceBmFcluIICpJye4H9qN9nuM6Q/vyUjs5\n",
       "zwkfhQvTYPlsKttNZhxVJ7NtqRpwFBLwmiFCWs6qhMal+OHtqUlDdfPb8OKD/ED6lplHHbw/v+As\n",
       "LdoCaCep+4Hivgi17zrTxjRRA4oCIh8NMsnMn77dCacxADDEx+92ZkB9iH2NhvoC3y0BW95gZ4cv\n",
       "3iUoFZvqoctva5EYOGOuCHdjudYw5AhU+YVZq40BNkgs6nm0pKFu7q3RmUhjuKw7kP+VxuCT0yUO\n",
       "6YyUzOJ5HnYcHmtJ9mYWNIXDxQRCzZSxfjL+AjTXFCeHb2gJ+M7JCZ1q/OYXTuNNMWgE+Qw3LjGe\n",
       "1Gg8rJ4ifIsm3fcQy0nXvPwyyJDAZ8nYPtX280vxbZfbNcwNbK7KJH+mq6kcDUHLPQIPMm+OUMYm\n",
       "lYRDZ4kNs6Ss3FUhFBsV0BXzjzpMdJU7/z3wGvXuP28V6AujD5Q2+hmVLpQ4PpSDEYMj2Hbl4w0f\n",
       "pwMWriTv1qPxied8R2esEP/ossyiHsdBr/EuA9vofAwRzbaAfuMvg7MWxJr1FvHEqjARetQOb33D\n",
       "PposOOdZZaShFWQSkFjK6GazzAbAABcplqbtIiw29n4XRuFpMzRzxDaHTxqZ7/Epbc0lKUtbI+7q\n",
       "897eGyhec6tEl5/e60InjaqmVmVmAIoOzr5qMqH8/0YF5EbL/5UVlfETbhwLLBSKQ8fkN5cyMg1G\n",
       "EoHhPkzYTrBVMdSI2pbTk8HCwD4eQSd2ahNOyaBXfVS8W0xj5VevSQsMY93226r8cGP0P27QZFK2\n",
       "LLTwrsBwsVwXwfnJ5kCHYVb150z9Vf8ViFRwJ/VmZ2cu5jfxjZa5Jpt25Ci1qQbt/T/x86yr29nI\n",
       "kbmo6Cpa8cCLikExoQAAAwltb292AAAAbG12aGQAAAAAAAAAAAAAAAAAAAPoAAAAAQABAAABAAAA\n",
       "AAAAAAAAAAAAAQAAAAAAAAAAAAAAAAAAAAEAAAAAAAAAAAAAAAAAAEAAAAAAAAAAAAAAAAAAAAAA\n",
       "AAAAAAAAAAAAAAAAAAACAAACM3RyYWsAAABcdGtoZAAAAAMAAAAAAAAAAAAAAAEAAAAAAAAAAQAA\n",
       "AAAAAAAAAAAAAAAAAAAAAQAAAAAAAAAAAAAAAAAAAAEAAAAAAAAAAAAAAAAAAEAAAAABsAAAASAA\n",
       "AAAAACRlZHRzAAAAHGVsc3QAAAAAAAAAAQAAAAEAAAAAAAEAAAAAAattZGlhAAAAIG1kaGQAAAAA\n",
       "AAAAAAAAAAAAAD6AAAAAEFXEAAAAAAAtaGRscgAAAAAAAAAAdmlkZQAAAAAAAAAAAAAAAFZpZGVv\n",
       "SGFuZGxlcgAAAAFWbWluZgAAABR2bWhkAAAAAQAAAAAAAAAAAAAAJGRpbmYAAAAcZHJlZgAAAAAA\n",
       "AAABAAAADHVybCAAAAABAAABFnN0YmwAAACyc3RzZAAAAAAAAAABAAAAomF2YzEAAAAAAAAAAQAA\n",
       "AAAAAAAAAAAAAAAAAAABsAEgAEgAAABIAAAAAAAAAAEAAAAAAAAAAAAAAAAAAAAAAAAAAAAAAAAA\n",
       "AAAAAAAAAAAY//8AAAAwYXZjQwFkACr/4QAXZ2QAKqzZQbCWhAAAAwAEAAAfQDxgxlgBAAZo6+PL\n",
       "IsAAAAAcdXVpZGtoQPJfJE/FujmlG88DI/MAAAAAAAAAGHN0dHMAAAAAAAAAAQAAAAEAAAAQAAAA\n",
       "HHN0c2MAAAAAAAAAAQAAAAEAAAABAAAAAQAAABRzdHN6AAAAAAAACpEAAAABAAAAFHN0Y28AAAAA\n",
       "AAAAAQAAACwAAABidWR0YQAAAFptZXRhAAAAAAAAACFoZGxyAAAAAAAAAABtZGlyYXBwbAAAAAAA\n",
       "AAAAAAAAAC1pbHN0AAAAJal0b28AAAAdZGF0YQAAAAEAAAAATGF2ZjU3LjU2LjEwMA==\n",
       "\">\n",
       "  Your browser does not support the video tag.\n",
       "</video>"
      ],
      "text/plain": [
       "<IPython.core.display.HTML object>"
      ]
     },
     "execution_count": 22,
     "metadata": {},
     "output_type": "execute_result"
    }
   ],
   "source": [
    "objarr =[[1]]\n",
    "#objarr =[[0,1],[1,1],[1,1]]\n",
    "obj = sim_object(3,3,objarr,objarr)\n",
    "\n",
    "sim = simulator(10,8,[obj])\n",
    "\n",
    "grid = Grid([], sim.width, sim.height)\n",
    "sim.obj.draw(grid)\n",
    "grasp_result = sim.grasp_action(3, 0)\n",
    "print grasp_result\n",
    "sim.draw_grasp(grid, grasp_result)\n",
    "\n",
    "grid.play()"
   ]
  },
  {
   "cell_type": "code",
   "execution_count": null,
   "metadata": {
    "collapsed": false
   },
   "outputs": [],
   "source": [
    "#Test out some sim stuff\n",
    "result = sim.grasp_action(4,0)\n",
    "print result\n",
    "sim.draw_grasp(grid,result)\n",
    "grid.play()"
   ]
  },
  {
   "cell_type": "code",
   "execution_count": null,
   "metadata": {
    "collapsed": false
   },
   "outputs": [],
   "source": [
    "result = sim.grasp_action(5,0)\n",
    "print result\n",
    "sim.draw_grasp(grid,result)\n",
    "grid.play()"
   ]
  },
  {
   "cell_type": "code",
   "execution_count": null,
   "metadata": {
    "collapsed": false
   },
   "outputs": [],
   "source": [
    "result = sim.grasp_action(6,1)\n",
    "print result\n",
    "sim.draw_grasp(grid,result)\n",
    "grid.play()"
   ]
  },
  {
   "cell_type": "code",
   "execution_count": null,
   "metadata": {
    "collapsed": true
   },
   "outputs": [],
   "source": []
  },
  {
   "cell_type": "code",
   "execution_count": null,
   "metadata": {
    "collapsed": true
   },
   "outputs": [],
   "source": []
  },
  {
   "cell_type": "code",
   "execution_count": null,
   "metadata": {
    "collapsed": true
   },
   "outputs": [],
   "source": []
  }
 ],
 "metadata": {
  "anaconda-cloud": {},
  "kernelspec": {
   "display_name": "Python 2",
   "language": "python",
   "name": "python2"
  },
  "language_info": {
   "codemirror_mode": {
    "name": "ipython",
    "version": 2
   },
   "file_extension": ".py",
   "mimetype": "text/x-python",
   "name": "python",
   "nbconvert_exporter": "python",
   "pygments_lexer": "ipython2",
   "version": "2.7.13"
  }
 },
 "nbformat": 4,
 "nbformat_minor": 0
}
